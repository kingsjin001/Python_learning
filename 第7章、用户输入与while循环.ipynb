{
 "cells": [
  {
   "cell_type": "markdown",
   "metadata": {},
   "source": [
    "# 第7章  用户输入与while循环"
   ]
  },
  {
   "cell_type": "markdown",
   "metadata": {},
   "source": [
    "## 7.1  函数input（）的工作原理"
   ]
  },
  {
   "cell_type": "raw",
   "metadata": {},
   "source": [
    "    函数input（）让程序暂停运行，等待用户输入一些文本。获取用户输入后，Python将其存储在一个变量中，以方便你使用"
   ]
  },
  {
   "cell_type": "code",
   "execution_count": 1,
   "metadata": {},
   "outputs": [
    {
     "name": "stdout",
     "output_type": "stream",
     "text": [
      "Tell me something and I will repeat it back to you: Hello everyone!\n",
      "Hello everyone!\n"
     ]
    }
   ],
   "source": [
    "message = input('Tell me something and I will repeat it back to you: ')\n",
    "print(message)"
   ]
  },
  {
   "cell_type": "code",
   "execution_count": 6,
   "metadata": {},
   "outputs": [
    {
     "name": "stdout",
     "output_type": "stream",
     "text": [
      "Please enter your name: king\n",
      "Hello, king!\n"
     ]
    }
   ],
   "source": [
    "name = input(\"Please enter your name: \")\n",
    "print(\"Hello, \"+name+\"!\")"
   ]
  },
  {
   "cell_type": "code",
   "execution_count": 8,
   "metadata": {},
   "outputs": [
    {
     "name": "stdout",
     "output_type": "stream",
     "text": [
      "How old are you?19\n",
      "你是个成年人了\n"
     ]
    }
   ],
   "source": [
    "#用int()来获取数值输入\n",
    "#input（）函数用户输入被解读为字符串，要将数值输入用于计算和比较前，务必将其转化为数值表示\n",
    "age = input(\"How old are you?\")\n",
    "age = int(age)\n",
    "if age >=18:\n",
    "    print(\"你是个成年人了\")\n"
   ]
  },
  {
   "cell_type": "code",
   "execution_count": 9,
   "metadata": {},
   "outputs": [
    {
     "data": {
      "text/plain": [
       "1"
      ]
     },
     "execution_count": 9,
     "metadata": {},
     "output_type": "execute_result"
    }
   ],
   "source": [
    "#求模运算符%\n",
    "4%3     # 将两个数相除并返回余数"
   ]
  },
  {
   "cell_type": "code",
   "execution_count": 10,
   "metadata": {},
   "outputs": [
    {
     "data": {
      "text/plain": [
       "2"
      ]
     },
     "execution_count": 10,
     "metadata": {},
     "output_type": "execute_result"
    }
   ],
   "source": [
    "5%3"
   ]
  },
  {
   "cell_type": "code",
   "execution_count": 11,
   "metadata": {},
   "outputs": [
    {
     "name": "stdout",
     "output_type": "stream",
     "text": [
      "Enter a number, and I'll tell you if it's even or odd: 89\n",
      "\n",
      "The number 89is odd.\n"
     ]
    }
   ],
   "source": [
    "#用%来判断一个数是奇数还是偶数\n",
    "number = input(\"Enter a number, and I'll tell you if it's even or odd: \")\n",
    "number = int(number)\n",
    "if number % 2 ==0:\n",
    "    print(\"\\nThe number \"+str(number)+\"is even.\")\n",
    "else:\n",
    "    print(\"\\nThe number \"+str(number)+\"is odd.\")"
   ]
  },
  {
   "cell_type": "markdown",
   "metadata": {},
   "source": [
    "## 7.2 while循环简介"
   ]
  },
  {
   "cell_type": "raw",
   "metadata": {},
   "source": [
    "for循环用于针对集合中每个元素的一个代码块，而while循环不断运行，直到指定的条件不满足为止。"
   ]
  },
  {
   "cell_type": "code",
   "execution_count": 12,
   "metadata": {},
   "outputs": [
    {
     "name": "stdout",
     "output_type": "stream",
     "text": [
      "1\n",
      "2\n",
      "3\n",
      "4\n",
      "5\n"
     ]
    }
   ],
   "source": [
    "#使用while循环\n",
    "current_number = 1\n",
    "while current_number <= 5:\n",
    "    print(current_number)\n",
    "    current_number += 1"
   ]
  },
  {
   "cell_type": "code",
   "execution_count": 13,
   "metadata": {},
   "outputs": [
    {
     "name": "stdout",
     "output_type": "stream",
     "text": [
      "\n",
      "Tell me something,and I will repeat it back to you\n",
      "Enter 'quit' to end the program.jiie\n",
      "jiie\n",
      "\n",
      "Tell me something,and I will repeat it back to you\n",
      "Enter 'quit' to end the program.eig\n",
      "eig\n",
      "\n",
      "Tell me something,and I will repeat it back to you\n",
      "Enter 'quit' to end the program.eij\n",
      "eij\n",
      "\n",
      "Tell me something,and I will repeat it back to you\n",
      "Enter 'quit' to end the program.weid\n",
      "weid\n",
      "\n",
      "Tell me something,and I will repeat it back to you\n",
      "Enter 'quit' to end the program.quit\n",
      "quit\n"
     ]
    }
   ],
   "source": [
    "#让用户选择何时退出\n",
    "prompt = \"\\nTell me something,and I will repeat it back to you\"\n",
    "prompt += \"\\nEnter 'quit' to end the program.\"\n",
    "message = \"\"    #设置初始值是必要的，只有设置了初始值才能在下一步进行比较，空字符串也是可以的\n",
    "\n",
    "while message != 'quit':\n",
    "    message = input(prompt)\n",
    "    print(message)"
   ]
  },
  {
   "cell_type": "code",
   "execution_count": 15,
   "metadata": {},
   "outputs": [
    {
     "name": "stdout",
     "output_type": "stream",
     "text": [
      "\n",
      "Tell me something,and I will repeat it back to you\n",
      "Enter 'quit' to end the program.ji\n",
      "ji\n",
      "\n",
      "Tell me something,and I will repeat it back to you\n",
      "Enter 'quit' to end the program.jij\n",
      "jij\n",
      "\n",
      "Tell me something,and I will repeat it back to you\n",
      "Enter 'quit' to end the program.quit\n"
     ]
    }
   ],
   "source": [
    "prompt = \"\\nTell me something,and I will repeat it back to you\"\n",
    "prompt += \"\\nEnter 'quit' to end the program.\"\n",
    "message = \"\"    #设置初始值是必要的，只有设置了初始值才能在下一步进行比较，空字符串也是可以的\n",
    "\n",
    "while message != 'quit':\n",
    "    message = input(prompt)\n",
    "    if message != \"quit\":\n",
    "        print(message)"
   ]
  },
  {
   "cell_type": "code",
   "execution_count": 16,
   "metadata": {},
   "outputs": [
    {
     "name": "stdout",
     "output_type": "stream",
     "text": [
      "\n",
      "Tell me something,and I will repeat it back to you\n",
      "Enter 'quit' to end the program.hi\n",
      "hi\n",
      "\n",
      "Tell me something,and I will repeat it back to you\n",
      "Enter 'quit' to end the program.hioi\n",
      "hioi\n",
      "\n",
      "Tell me something,and I will repeat it back to you\n",
      "Enter 'quit' to end the program.quit\n"
     ]
    }
   ],
   "source": [
    "#使用标志简化程序\n",
    "prompt = \"\\nTell me something,and I will repeat it back to you\"\n",
    "prompt += \"\\nEnter 'quit' to end the program.\"\n",
    "active = True\n",
    "while active:\n",
    "    message = input(prompt)\n",
    "    \n",
    "    if message == 'quit':\n",
    "        active = False\n",
    "    else:\n",
    "        print(message)\n",
    "    "
   ]
  },
  {
   "cell_type": "code",
   "execution_count": 17,
   "metadata": {},
   "outputs": [
    {
     "name": "stdout",
     "output_type": "stream",
     "text": [
      "\n",
      "Tell me something,and I will repeat it back to you\n",
      "Enter 'quit' to end the program.iuhifu\n",
      "iuhifu\n",
      "\n",
      "Tell me something,and I will repeat it back to you\n",
      "Enter 'quit' to end the program.hdoif\n",
      "hdoif\n",
      "\n",
      "Tell me something,and I will repeat it back to you\n",
      "Enter 'quit' to end the program.quit\n"
     ]
    }
   ],
   "source": [
    "prompt = \"\\nTell me something,and I will repeat it back to you\"\n",
    "prompt += \"\\nEnter 'quit' to end the program.\"\n",
    "\n",
    "while True:\n",
    "    message = input(prompt)\n",
    "    if message == 'quit':\n",
    "        break\n",
    "    else:\n",
    "        print(message)"
   ]
  },
  {
   "cell_type": "raw",
   "metadata": {},
   "source": [
    "注意：在任何Python循环中都可以用break语句。例如，克使用break语句来退出遍历列表或字典的for循环"
   ]
  },
  {
   "cell_type": "code",
   "execution_count": 19,
   "metadata": {},
   "outputs": [
    {
     "name": "stdout",
     "output_type": "stream",
     "text": [
      "1\n",
      "3\n",
      "5\n",
      "7\n",
      "9\n"
     ]
    }
   ],
   "source": [
    "#在循环中使用continue\n",
    "#从1数到10，但只打印其中的奇数的循环\n",
    "current_number = 0\n",
    "while current_number < 10:\n",
    "    current_number +=1\n",
    "    if current_number % 2 == 0:\n",
    "        continue\n",
    "    print(current_number)\n"
   ]
  },
  {
   "cell_type": "markdown",
   "metadata": {},
   "source": [
    " 要避免程序陷入无限循环，当不小心陷入无限循环，可按Ctrl+C，也可关闭显示程序输出的终端窗口"
   ]
  },
  {
   "cell_type": "markdown",
   "metadata": {},
   "source": [
    "## 7.3  使用while循环来处理列表和字典"
   ]
  },
  {
   "cell_type": "code",
   "execution_count": 21,
   "metadata": {},
   "outputs": [
    {
     "name": "stdout",
     "output_type": "stream",
     "text": [
      "Verifying user: Candace\n",
      "Verifying user: Brian\n",
      "Verifying user: Alice\n",
      "\n",
      "The following users have been confirmed:\n",
      "candace\n",
      "brian\n",
      "alice\n"
     ]
    }
   ],
   "source": [
    "# 在列表之间移动元素\n",
    "#首先创建一个待验证用户列表\n",
    "# 和一个用于存储已验证用户的空列表\n",
    "unconfirmed_users  = ['alice','brian','candace']\n",
    "confirmed_users = []\n",
    "\n",
    "#验证每个用户，直到，没有未验证的用户为止\n",
    "# 将每个经过验证的列表都移到已验证用户列表中\n",
    "while unconfirmed_users :\n",
    "    current_user = unconfirmed_users.pop()\n",
    "    print(\"Verifying user: \"+current_user.title())\n",
    "    confirmed_users.append(current_user)\n",
    "#显示所有已验证的用户\n",
    "print(\"\\nThe following users have been confirmed:\")\n",
    "for confirmed_user in confirmed_users:\n",
    "    print(confirmed_user)"
   ]
  },
  {
   "cell_type": "code",
   "execution_count": 22,
   "metadata": {},
   "outputs": [
    {
     "name": "stdout",
     "output_type": "stream",
     "text": [
      "['dog', 'cat', 'dog', 'goldfish', 'cat', 'rabbit', 'cat']\n",
      "['dog', 'dog', 'goldfish', 'rabbit']\n"
     ]
    }
   ],
   "source": [
    "#删除包含特定值的所有列表元素\n",
    "pets = ['dog','cat','dog','goldfish','cat','rabbit','cat']\n",
    "print(pets)\n",
    "\n",
    "while 'cat' in pets:\n",
    "    pets.remove('cat')\n",
    "print(pets)"
   ]
  },
  {
   "cell_type": "code",
   "execution_count": 24,
   "metadata": {},
   "outputs": [
    {
     "name": "stdout",
     "output_type": "stream",
     "text": [
      "\n",
      "What is you name?c\n",
      "Which mountain would you like to climb somedayf\n",
      "Would you like to let another person respond?(yes/no)f\n",
      "\n",
      "What is you name?f\n",
      "Which mountain would you like to climb somedayf\n",
      "Would you like to let another person respond?(yes/no)no\n",
      "\n",
      "---Poll Results---\n",
      "c would like to climb f.\n",
      "f would like to climb f.\n"
     ]
    }
   ],
   "source": [
    "#使用用户输入来填充字典\n",
    "responses = {}\n",
    "#设置一个标志，指出调查是否继续\n",
    "polling_active = True\n",
    "while polling_active:\n",
    "    #提示输入被调查者的名字和回答\n",
    "    name = input(\"\\nWhat is you name?\")\n",
    "    response = input(\"Which mountain would you like to climb someday\")\n",
    "\n",
    "    #将答卷存储在字典中\n",
    "    responses[name] = response\n",
    "    #看看是否还有人要参加调查\n",
    "    repeat = input(\"Would you like to let another person respond?(yes/no)\")\n",
    "    if repeat == 'no':\n",
    "        polling_active = False\n",
    "\n",
    "#调查结束，显示结果\n",
    "print(\"\\n---Poll Results---\")\n",
    "for name,response in responses.items():\n",
    "    print(name+\" would like to climb \"+response+\".\")"
   ]
  },
  {
   "cell_type": "code",
   "execution_count": null,
   "metadata": {},
   "outputs": [],
   "source": []
  },
  {
   "cell_type": "code",
   "execution_count": null,
   "metadata": {},
   "outputs": [],
   "source": []
  },
  {
   "cell_type": "code",
   "execution_count": null,
   "metadata": {},
   "outputs": [],
   "source": []
  },
  {
   "cell_type": "code",
   "execution_count": null,
   "metadata": {},
   "outputs": [],
   "source": []
  },
  {
   "cell_type": "code",
   "execution_count": null,
   "metadata": {},
   "outputs": [],
   "source": []
  }
 ],
 "metadata": {
  "kernelspec": {
   "display_name": "Python 3",
   "language": "python",
   "name": "python3"
  },
  "language_info": {
   "codemirror_mode": {
    "name": "ipython",
    "version": 3
   },
   "file_extension": ".py",
   "mimetype": "text/x-python",
   "name": "python",
   "nbconvert_exporter": "python",
   "pygments_lexer": "ipython3",
   "version": "3.7.1"
  }
 },
 "nbformat": 4,
 "nbformat_minor": 2
}
