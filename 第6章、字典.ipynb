{
 "cells": [
  {
   "cell_type": "markdown",
   "metadata": {},
   "source": [
    "# 第6章  字典\n"
   ]
  },
  {
   "cell_type": "markdown",
   "metadata": {},
   "source": [
    "## 6.1 一个简单的字典"
   ]
  },
  {
   "cell_type": "code",
   "execution_count": 1,
   "metadata": {},
   "outputs": [
    {
     "name": "stdout",
     "output_type": "stream",
     "text": [
      "green\n",
      "5\n"
     ]
    }
   ],
   "source": [
    "alien_0 = {'color':'green','points':5}\n",
    "print(alien_0['color'])\n",
    "print(alien_0['points'])"
   ]
  },
  {
   "cell_type": "markdown",
   "metadata": {},
   "source": [
    "## 6.2  使用字典"
   ]
  },
  {
   "cell_type": "code",
   "execution_count": 2,
   "metadata": {},
   "outputs": [
    {
     "name": "stdout",
     "output_type": "stream",
     "text": [
      "green\n"
     ]
    }
   ],
   "source": [
    "#访问字典中的值\n",
    "#要获取与键相关联的值，可依次指定字典名和放在方括号内的键\n",
    "alien_0 = {'color':'green'}\n",
    "print(alien_0['color'])"
   ]
  },
  {
   "cell_type": "code",
   "execution_count": 4,
   "metadata": {},
   "outputs": [
    {
     "name": "stdout",
     "output_type": "stream",
     "text": [
      "{'color': 'green', 'points': 5}\n",
      "{'color': 'green', 'points': 5, 'x_position': 0, 'y_position': 25}\n"
     ]
    }
   ],
   "source": [
    "#添加键值对\n",
    "alien_0 = {'color':'green','points':5}\n",
    "print(alien_0)\n",
    "\n",
    "alian_0['x_position'] = 0\n",
    "alian_0['y_position'] = 25\n",
    "print(alien_0)"
   ]
  },
  {
   "cell_type": "code",
   "execution_count": 6,
   "metadata": {},
   "outputs": [
    {
     "name": "stdout",
     "output_type": "stream",
     "text": [
      "{'color': 'green', 'point': 5}\n"
     ]
    }
   ],
   "source": [
    "#先创建空字典，再分行添加各个键-值对\n",
    "alien_0 = {}\n",
    "alien_0['color'] = 'green'\n",
    "alien_0['point'] = 5\n",
    "print(alien_0)"
   ]
  },
  {
   "cell_type": "code",
   "execution_count": 8,
   "metadata": {},
   "outputs": [
    {
     "name": "stdout",
     "output_type": "stream",
     "text": [
      "{'color': 'green'}\n",
      "{'color': 'yellow'}\n"
     ]
    }
   ],
   "source": [
    "#修改字典中的值\n",
    "alien_0 = {'color':'green'}\n",
    "print(alien_0)\n",
    "alien_0['color'] = 'yellow'\n",
    "print(alien_0)"
   ]
  },
  {
   "cell_type": "code",
   "execution_count": 9,
   "metadata": {},
   "outputs": [
    {
     "name": "stdout",
     "output_type": "stream",
     "text": [
      "Original x-position:0\n",
      "New x-position:2\n"
     ]
    }
   ],
   "source": [
    "#跟踪外星人位置\n",
    "alien_0 ={'x_position':0,'y_position':25,'speed':'medium'}\n",
    "print(\"Original x-position:\"+str(alien_0['x_position']))\n",
    "#向右移动机器人\n",
    "#根据外星人速度决定将其移动多远\n",
    "if alien_0['speed'] == 'slow':\n",
    "    x_increment = 1\n",
    "elif alien_0['speed'] == 'medium':\n",
    "    x_increment = 2\n",
    "else:\n",
    "    #这个外星人的速度一定很快\n",
    "    x_increment = 3\n",
    "#新位置等于老位置加上增量\n",
    "alien_0['x_position'] = alien_0['x_position'] + x_increment\n",
    "print(\"New x-position:\"+ str(alien_0['x_position']))\n"
   ]
  },
  {
   "cell_type": "code",
   "execution_count": 10,
   "metadata": {},
   "outputs": [
    {
     "name": "stdout",
     "output_type": "stream",
     "text": [
      "{'color': 'green', 'points': 5}\n",
      "{'color': 'green'}\n"
     ]
    }
   ],
   "source": [
    "#使用del语句删除键-值对\n",
    "alien_0 = {'color':'green','points':5}\n",
    "print(alien_0)\n",
    "\n",
    "del alien_0['points']\n",
    "print(alien_0)"
   ]
  },
  {
   "cell_type": "code",
   "execution_count": 16,
   "metadata": {},
   "outputs": [
    {
     "name": "stdout",
     "output_type": "stream",
     "text": [
      "sarah's favorite languages is C.\n"
     ]
    }
   ],
   "source": [
    "#由类似对象组成的字典\n",
    "favorite_languages = {\n",
    "    'jen':'python',\n",
    "    'sarah':'c',\n",
    "    'edward':'rudy',\n",
    "    'phil':'python',\n",
    "    }\n",
    "print(\"sarah's favorite languages is \"+\n",
    "      favorite_languages['sarah'].title()+\n",
    "      \".\")"
   ]
  },
  {
   "cell_type": "markdown",
   "metadata": {},
   "source": [
    "## 6.3  遍历字典\n"
   ]
  },
  {
   "cell_type": "code",
   "execution_count": 17,
   "metadata": {},
   "outputs": [
    {
     "name": "stdout",
     "output_type": "stream",
     "text": [
      "\n",
      "Key: username\n",
      "Value: efermi\n",
      "\n",
      "Key: first\n",
      "Value: enrico\n",
      "\n",
      "Key: last\n",
      "Value: fermi\n"
     ]
    }
   ],
   "source": [
    "#使用for循环加方法items（）来遍历整个字典\n",
    "user_0 = {\n",
    "    'username': 'efermi',\n",
    "    'first':'enrico',\n",
    "    'last':'fermi',\n",
    "    }\n",
    "for key,value in user_0.items():\n",
    "    print(\"\\nKey: \"+key)\n",
    "    print(\"Value: \"+value)"
   ]
  },
  {
   "cell_type": "code",
   "execution_count": 19,
   "metadata": {},
   "outputs": [
    {
     "name": "stdout",
     "output_type": "stream",
     "text": [
      "Jen\n",
      "Sarah\n",
      "Edward\n",
      "Phil\n"
     ]
    }
   ],
   "source": [
    "#使用for循环加方法keys（）来遍历字典中的所有键\n",
    "favorite_languages = {\n",
    "    'jen':'python',\n",
    "    'sarah':'c',\n",
    "    'edward':'rudy',\n",
    "    'phil':'python',\n",
    "}\n",
    "for name in favorite_languages.keys():\n",
    "    print(name.title())"
   ]
  },
  {
   "cell_type": "code",
   "execution_count": 20,
   "metadata": {},
   "outputs": [
    {
     "name": "stdout",
     "output_type": "stream",
     "text": [
      "Jen\n",
      "Sarah\n",
      "Edward\n",
      "Phil\n"
     ]
    }
   ],
   "source": [
    "favorite_languages = {\n",
    "    'jen':'python',\n",
    "    'sarah':'c',\n",
    "    'edward':'rudy',\n",
    "    'phil':'python',\n",
    "}\n",
    "for name in favorite_languages:  #遍历字典时，默认遍历所有键，可不使用方法keys()\n",
    "    print(name.title())"
   ]
  },
  {
   "cell_type": "code",
   "execution_count": 22,
   "metadata": {},
   "outputs": [
    {
     "name": "stdout",
     "output_type": "stream",
     "text": [
      "Edward,thank you for taking the poll.\n",
      "Jen,thank you for taking the poll.\n",
      "Phil,thank you for taking the poll.\n",
      "Sarah,thank you for taking the poll.\n"
     ]
    }
   ],
   "source": [
    "#调用函数sorted()按顺序遍历字典中的所有键\n",
    "favorite_languages = {\n",
    "    'jen':'python',\n",
    "    'sarah':'c',\n",
    "    'edward':'rudy',\n",
    "    'phil':'python',\n",
    "}\n",
    "for name in sorted(favorite_languages.keys()):\n",
    "    print(name.title()+\",thank you for taking the poll.\")"
   ]
  },
  {
   "cell_type": "code",
   "execution_count": 23,
   "metadata": {},
   "outputs": [
    {
     "name": "stdout",
     "output_type": "stream",
     "text": [
      "Python\n",
      "C\n",
      "Rudy\n",
      "Python\n"
     ]
    }
   ],
   "source": [
    "#使用方法values()遍历字典中的所有值\n",
    "favorite_languages = {\n",
    "    'jen':'python',\n",
    "    'sarah':'c',\n",
    "    'edward':'rudy',\n",
    "    'phil':'python',\n",
    "}\n",
    "for language in favorite_languages.values():\n",
    "    print(language.title())"
   ]
  },
  {
   "cell_type": "code",
   "execution_count": 24,
   "metadata": {},
   "outputs": [
    {
     "name": "stdout",
     "output_type": "stream",
     "text": [
      "C\n",
      "Python\n",
      "Rudy\n"
     ]
    }
   ],
   "source": [
    "#调用set（）函数剔除重复项\n",
    "favorite_languages = {\n",
    "    'jen':'python',\n",
    "    'sarah':'c',\n",
    "    'edward':'rudy',\n",
    "    'phil':'python',\n",
    "}\n",
    "for language in set(favorite_languages.values()):\n",
    "    print(language.title())"
   ]
  },
  {
   "cell_type": "markdown",
   "metadata": {},
   "source": [
    "## 6.4 嵌套"
   ]
  },
  {
   "cell_type": "code",
   "execution_count": 25,
   "metadata": {},
   "outputs": [
    {
     "name": "stdout",
     "output_type": "stream",
     "text": [
      "{'color': 'green', 'points': 5}\n",
      "{'color': 'yellow', 'points': 10}\n",
      "{'color': 'red', 'points': 15}\n"
     ]
    }
   ],
   "source": [
    "#字典列表\n",
    "alien_0 = {'color':'green','points':5}\n",
    "alien_1 = {'color':'yellow','points':10}\n",
    "alien_2 = {'color':'red','points':15}\n",
    "\n",
    "aliens = [alien_0,alien_1,alien_2]\n",
    "\n",
    "for alien in aliens:\n",
    "    print(alien)"
   ]
  },
  {
   "cell_type": "code",
   "execution_count": 26,
   "metadata": {},
   "outputs": [
    {
     "name": "stdout",
     "output_type": "stream",
     "text": [
      "{'color': 'green', 'point': 5, 'speed': 'slow'}\n",
      "{'color': 'green', 'point': 5, 'speed': 'slow'}\n",
      "{'color': 'green', 'point': 5, 'speed': 'slow'}\n",
      "{'color': 'green', 'point': 5, 'speed': 'slow'}\n",
      "{'color': 'green', 'point': 5, 'speed': 'slow'}\n",
      ".....\n",
      "Total number of aliens: 30\n"
     ]
    }
   ],
   "source": [
    "#使用range（）生成30个外星人\n",
    "#创建一个用于存储外星人的空列表\n",
    "aliens = []\n",
    "#创建30个绿色的外星人\n",
    "for alien_number in range(30):\n",
    "    new_alien = {'color':'green','point':5,'speed':'slow'}\n",
    "    aliens.append(new_alien)\n",
    "#显示前5个外星人\n",
    "for alien in aliens[:5]:\n",
    "    print(alien)\n",
    "print(\".....\")\n",
    " \n",
    "#显示创建了多少个外星人\n",
    "print(\"Total number of aliens: \"+str(len(aliens)))"
   ]
  },
  {
   "cell_type": "code",
   "execution_count": 30,
   "metadata": {},
   "outputs": [
    {
     "name": "stdout",
     "output_type": "stream",
     "text": [
      "{'color': 'yellow', 'points': 10, 'speed': 'medium'}\n",
      "{'color': 'yellow', 'points': 10, 'speed': 'medium'}\n",
      "{'color': 'yellow', 'points': 10, 'speed': 'medium'}\n",
      "{'color': 'green', 'points': 5, 'speed': 'slow'}\n",
      "{'color': 'green', 'points': 5, 'speed': 'slow'}\n",
      ".....\n"
     ]
    }
   ],
   "source": [
    "#将前3个外星人修改为黄色，速度中等，值10个点\n",
    "#创建一个用于存储外星人的空列表\n",
    "aliens = []\n",
    "#创建30个绿色的外星人\n",
    "for alien_number in range(30):\n",
    "    new_alien = {'color':'green','points':5,'speed':'slow'}\n",
    "    aliens.append(new_alien)\n",
    "\n",
    "for alien in aliens[0:3]:\n",
    "    if alien['color'] == 'green':\n",
    "        alien['color'] = 'yellow'\n",
    "        alien['speed'] = 'medium'\n",
    "        alien['points'] = 10\n",
    "        \n",
    "#显示前5个外星人\n",
    "for alien in aliens[:5]:\n",
    "    print(alien)\n",
    "print(\".....\")\n",
    " \n",
    "    \n"
   ]
  },
  {
   "cell_type": "code",
   "execution_count": 32,
   "metadata": {},
   "outputs": [
    {
     "name": "stdout",
     "output_type": "stream",
     "text": [
      "You ordered a thick-crust pizzawith the following toppings:\n",
      "\tmushrooms\n",
      "\textra cheese\n"
     ]
    }
   ],
   "source": [
    "#在字典中存储列表\n",
    "pizza = {\n",
    "    'crust':'thick',\n",
    "    'toppings':['mushrooms','extra cheese']   #这是一个列表\n",
    "    }\n",
    "#概述所点的比萨\n",
    "print(\"You ordered a \"+pizza['crust']+\"-crust pizza\"+\n",
    "     \"with the following toppings:\")\n",
    "for topping in pizza['toppings']:\n",
    "    print(\"\\t\"+topping)"
   ]
  },
  {
   "cell_type": "code",
   "execution_count": 33,
   "metadata": {},
   "outputs": [
    {
     "name": "stdout",
     "output_type": "stream",
     "text": [
      "\n",
      "Username: aeinstein\n",
      "\tFull name: Albert Einstein\n",
      "\tLocation: Princetion\n",
      "\n",
      "Username: mcurie\n",
      "\tFull name: Marie Curie\n",
      "\tLocation: Paris\n"
     ]
    }
   ],
   "source": [
    "#字典中存储字典\n",
    "user = {\n",
    "    'aeinstein':{\n",
    "        'first':'albert',\n",
    "        'last':'einstein',\n",
    "        'location':'princetion',\n",
    "        },\n",
    "    'mcurie':{\n",
    "         'first':'marie',\n",
    "        'last':'curie',\n",
    "        'location':'paris',\n",
    "    },\n",
    "}\n",
    "\n",
    "for username,user_info in user.items():\n",
    "    print(\"\\nUsername: \"+username)\n",
    "    full_name = user_info['first']+\" \"+user_info['last']\n",
    "    location = user_info['location']\n",
    "    \n",
    "    print(\"\\tFull name: \"+full_name.title())\n",
    "    print(\"\\tLocation: \"+location.title())"
   ]
  },
  {
   "cell_type": "code",
   "execution_count": null,
   "metadata": {},
   "outputs": [],
   "source": []
  }
 ],
 "metadata": {
  "kernelspec": {
   "display_name": "Python 3",
   "language": "python",
   "name": "python3"
  },
  "language_info": {
   "codemirror_mode": {
    "name": "ipython",
    "version": 3
   },
   "file_extension": ".py",
   "mimetype": "text/x-python",
   "name": "python",
   "nbconvert_exporter": "python",
   "pygments_lexer": "ipython3",
   "version": "3.7.1"
  }
 },
 "nbformat": 4,
 "nbformat_minor": 2
}
